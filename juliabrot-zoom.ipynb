{
 "cells": [
  {
   "cell_type": "markdown",
   "metadata": {},
   "source": [
    "# **PYNQ Juliabrot Fractal Factory v1.0 [for Jupyter Lab on Ultra96 and PYNQ Z1/Z2]**\n",
    "Created by: Fred Kellerman, [Github Repo](https://github.com/FredKellerman/pynq-juliabrot)"
   ]
  },
  {
   "cell_type": "markdown",
   "metadata": {},
   "source": [
    "![mandelbrot](./large-images/f3.png) ![mandelbrot](./large-images/f4.png) ![mandelbrot](./large-images/f5.png)"
   ]
  },
  {
   "cell_type": "markdown",
   "metadata": {},
   "source": [
    "### **Important:** ipycanvas 0.4.7 Jupyter Lab extension widget must be installed before using this notebook.\n",
    "See Appendix for how-to: [here](#installipycanvas)"
   ]
  },
  {
   "cell_type": "markdown",
   "metadata": {},
   "source": [
    "# Infinite graphical math from a simple complex number iterative equation"
   ]
  },
  {
   "cell_type": "markdown",
   "metadata": {},
   "source": [
    "$z \\rightarrow z^2 + c$"
   ]
  },
  {
   "cell_type": "markdown",
   "metadata": {},
   "source": [
    "See Wikipedia: [Julia Set](https://en.wikipedia.org/wiki/Julia_set) and [Mandelbrot Set](https://en.wikipedia.org/wiki/Mandelbrot_set)"
   ]
  },
  {
   "cell_type": "markdown",
   "metadata": {},
   "source": [
    "### Setup"
   ]
  },
  {
   "cell_type": "code",
   "execution_count": null,
   "metadata": {},
   "outputs": [],
   "source": [
    "from juliabrot import JuliabrotGrid, JuliabrotTile, JuliabrotGridSettings\n",
    "import juliabrot_ui as jui\n",
    "import juliabrot_coloring as jcolor\n",
    "import numpy as np\n",
    "# If you see 'Javascript Error: require is not defined' below, it is a PYNQ thing and you can ignore it, it is benign"
   ]
  },
  {
   "cell_type": "markdown",
   "metadata": {},
   "source": [
    "### Enter intial fractal settings from code (example)"
   ]
  },
  {
   "cell_type": "code",
   "execution_count": null,
   "metadata": {},
   "outputs": [],
   "source": [
    "# Setup the global grid settings, these will render the overview of the classic Mandelbrot set\n",
    "js = JuliabrotGridSettings()\n",
    "js.sizeX = 1920/4             # Pixel width of generated image (may be padded)\n",
    "js.sizeY = 1080/4             # Pixel height of generated image\n",
    "js.max_iterations = 255       # Max iterations\n",
    "js.mandelbrot_mode = True     # Set False to generate Julia set\n",
    "js.ulX = np.longdouble(-2.5)  # Upper-left X\n",
    "js.ulY = np.longdouble(1.5)   # Upper-left Y\n",
    "js.lrX = np.longdouble(2.5)   # Lower-right X\n",
    "js.lrY = np.longdouble(-2.5)  # Lower-right Y\n",
    "js.cX  = np.longdouble(0.388) # Julia set X point\n",
    "js.cY  = np.longdouble(0.312) # Julia set Y point\n",
    "\n",
    "# Leave empty to auto-select or choose to set to:\n",
    "#  64 - 6x kernels @ 64bits, 95 - 4x kernels @ 95 bits, 160 - 1x kernels @ 160bits (all @ 300MHz)\n",
    "#  64 is the fastest, 95 in the middle for speed, 160 the slowest but highest precision\n",
    "# PYNQ Z1-Z2 boards have 1 overlay for 3x kernels @ 64 bits ~ 125MHz\n",
    "js.kernel_mode = 64\n",
    "\n",
    "# Create a grid object, new auto generated tile size defaults to same size as full grid,\n",
    "jg = JuliabrotGrid(js)\n",
    "\n",
    "# Initialize the GUI, render it later\n",
    "jui.init_ui(jg)"
   ]
  },
  {
   "cell_type": "markdown",
   "metadata": {},
   "source": [
    "### Or load in a json preset file to setup the intial conditions (example)"
   ]
  },
  {
   "cell_type": "code",
   "execution_count": null,
   "metadata": {},
   "outputs": [],
   "source": [
    "# Uncomment to load in json saved setting file, clicking the save button in the GUI creates json files.\n",
    "#  From code you can evoke the save_json method (see juliabrot.py)\n",
    "#jui.init_ui('./catalog/juliabrot_0x7a5c2bf9_08_09_2020-02_14_51.json')"
   ]
  },
  {
   "cell_type": "markdown",
   "metadata": {},
   "source": [
    "## Interactive live preview"
   ]
  },
  {
   "cell_type": "markdown",
   "metadata": {},
   "source": [
    "Use mouse to select area to zoom into.  Bump buttons move number of bump pixels, up/down/left/right.  Use sliders and pull-downs to set interations and coloring options.  Save button will create json file in notebook's catalog folder."
   ]
  },
  {
   "cell_type": "markdown",
   "metadata": {},
   "source": [
    "You may double click in the same spot on the display to set the Julia coordinates.  Setting Zoom to value 0.0 and clicking Zoom button will reset to original coordinates but will not reset any other settings."
   ]
  },
  {
   "cell_type": "code",
   "execution_count": null,
   "metadata": {},
   "outputs": [],
   "source": [
    "jui.draw_roaming_ui()  # Execute to draw interactive GUI below\n",
    "# Click once over fractal to start selection of upper-left, click again to end lower-right selection"
   ]
  },
  {
   "cell_type": "markdown",
   "metadata": {},
   "source": [
    "## How-to generate larger image"
   ]
  },
  {
   "cell_type": "markdown",
   "metadata": {},
   "source": [
    "Once you have a created a likeable preview you can easily replicate it and create a larger version.  Here's how:"
   ]
  },
  {
   "cell_type": "code",
   "execution_count": null,
   "metadata": {},
   "outputs": [],
   "source": [
    "# Re-use GUI preview settings\n",
    "import copy\n",
    "big_grid = copy.deepcopy(jui.jgrid)"
   ]
  },
  {
   "cell_type": "code",
   "execution_count": null,
   "metadata": {},
   "outputs": [],
   "source": [
    "# Change some of the preview grid settings, for example size. Fractal will generate below cell\n",
    "#  Max dimensions are 16K x 16K, beware PS memory is limited and large images may have issues when coloring\n",
    "#  Note: cannot override kernel_mode unless overlay is reloaded!\n",
    "big_grid.set_size(1920,1080)\n",
    "big_grid.settings.max_iterations = int(jui.iter_slider.value)\n",
    "big_tile = jui.juliabrot.compute(big_grid.tile_list[0], True)"
   ]
  },
  {
   "cell_type": "markdown",
   "metadata": {},
   "source": [
    "## Choose a method to color the larger fractal"
   ]
  },
  {
   "cell_type": "markdown",
   "metadata": {},
   "source": [
    "You may choose some various coloring methods (or create your own).  To match the preview, uncomment the appropriate method and run (just one):"
   ]
  },
  {
   "cell_type": "markdown",
   "metadata": {},
   "source": [
    "Note: large images may exhuast the CPU memory, I've been able to color around 4096x2160 on U96, YMMV.  Coloring is done in Python software (it can take a while).  Keep in mind Z1/Z2 has less memory than U96."
   ]
  },
  {
   "cell_type": "code",
   "execution_count": null,
   "metadata": {},
   "outputs": [],
   "source": [
    "# No color just Black and White\n",
    "#rgb = big_tile.data.iterations"
   ]
  },
  {
   "cell_type": "code",
   "execution_count": null,
   "metadata": {},
   "outputs": [],
   "source": [
    "#rgb = jcolor.rgb_iter_max(big_tile, h=jui.hue_slider.value, s=jui.sat_slider.value, v=jui.val_slider.value, modulo=jui.modulo_slider.value, in_colors=[jui.picker1.value])"
   ]
  },
  {
   "cell_type": "code",
   "execution_count": null,
   "metadata": {},
   "outputs": [],
   "source": [
    "#rgb = jcolor.color_classic(big_tile, h= jui.hue_slider.value, s=jui.sat_slider.value, v=jui.val_slider.value, modulo=jui.modulo_slider.value, in_colors=[jui.picker1.value])"
   ]
  },
  {
   "cell_type": "code",
   "execution_count": null,
   "metadata": {},
   "outputs": [],
   "source": [
    "#rgb = jcolor.color_log(big_tile, h= jui.hue_slider.value, s=jui.sat_slider.value, v=jui.val_slider.value, modulo=jui.modulo_slider.value, in_colors=[jui.picker1.value])"
   ]
  },
  {
   "cell_type": "code",
   "execution_count": null,
   "metadata": {},
   "outputs": [],
   "source": [
    "rgb = jcolor.color_rainbow(big_tile, h=jui.hue_slider.value, s=jui.sat_slider.value, v=jui.val_slider.value, modulo=jui.modulo_slider.value, in_colors=[jui.picker1.value])"
   ]
  },
  {
   "cell_type": "code",
   "execution_count": null,
   "metadata": {},
   "outputs": [],
   "source": [
    "#rgb = jcolor.color_rainbow2(big_tile, h=jui.hue_slider.value, s=jui.sat_slider.value, v=jui.val_slider.value, modulo=jui.modulo_slider.value, in_colors=[jui.picker1.value])"
   ]
  },
  {
   "cell_type": "markdown",
   "metadata": {},
   "source": [
    "## After coloring the iteration data display it\n",
    "This may have troubles for 4K or larger images especially when saving canvas, you can try skipping this and just save to PNG then view the file"
   ]
  },
  {
   "cell_type": "code",
   "execution_count": null,
   "metadata": {},
   "outputs": [],
   "source": [
    "# Create the canvas, push the data to it\n",
    "canvas_full = jui.Canvas(width=big_tile.sizeX, height=big_tile.sizeY)\n",
    "canvas_full.sync_image_data = True\n",
    "with jui.hold_canvas(canvas_full) :\n",
    "    canvas_full.put_image_data(rgb, 0, 0)\n",
    "    canvas_full.fill_style=\"#ffffff\"  # Set text color\n",
    "    canvas_full.fill_text('PYNQ Juliabrot', 10, big_grid.settings.sizeY - 20) # Optionally write some text on your image"
   ]
  },
  {
   "cell_type": "code",
   "execution_count": null,
   "metadata": {},
   "outputs": [],
   "source": [
    "# Display the image\n",
    "canvas_full"
   ]
  },
  {
   "cell_type": "markdown",
   "metadata": {},
   "source": [
    "## Optionally save the large fractal as a PNG file"
   ]
  },
  {
   "cell_type": "markdown",
   "metadata": {},
   "source": [
    "Save the above canvas as an 8-bit PNG file, canvas.to_file() can have issues for large 4K sized images, use the 2nd method if it does"
   ]
  },
  {
   "cell_type": "code",
   "execution_count": null,
   "metadata": {},
   "outputs": [],
   "source": [
    "canvas_full.to_file('./user-images/fractal.png')"
   ]
  },
  {
   "cell_type": "code",
   "execution_count": null,
   "metadata": {},
   "outputs": [],
   "source": [
    "# Uncomment alternative and slower method to save to png (but it won't have the text)\n",
    "#from skimage.io import imsave\n",
    "#imsave('./user-images/fractal.png', rgb.astype(np.uint8)) # rgb is 64-bit float and scaled for 8-bit color"
   ]
  },
  {
   "cell_type": "markdown",
   "metadata": {},
   "source": [
    "## If larger images aren't cooperating for display or writing to a PNG file or you want to color faster\n",
    "Consider writing the Numpy array to a file and re-import into a PC Python environment and convert into image there"
   ]
  },
  {
   "cell_type": "code",
   "execution_count": null,
   "metadata": {},
   "outputs": [],
   "source": [
    "# Something like this:\n",
    "#with open('fractal-rgb.npy', 'wb') as f:\n",
    "#   np.save(f, rgb)\n",
    "#with open('fractal-iter.npy', 'wb') as f:\n",
    "#   np.save(f, big_tile.data.iterations)  # Can save iterations also!\n",
    "# Read it back in like this:\n",
    "#with open('fractal-rgb.npy', 'rb') as f:\n",
    "#   fractalRgb = np.load(f)"
   ]
  },
  {
   "cell_type": "markdown",
   "metadata": {},
   "source": [
    "## A few more examples"
   ]
  },
  {
   "cell_type": "markdown",
   "metadata": {},
   "source": [
    "![Mandelbrot](./large-images/title_fractal.png) ![Mandelbrot](./large-images/f2.png) ![Mandelbrot](./large-images/f6.png) ![Mandelbrot](./large-images/f7.png)"
   ]
  },
  {
   "cell_type": "markdown",
   "metadata": {},
   "source": [
    "<a id=\"installipycanvas\"></a>"
   ]
  },
  {
   "cell_type": "markdown",
   "metadata": {},
   "source": [
    "## Appendix: how to install ipycanvas 0.4.7"
   ]
  },
  {
   "cell_type": "markdown",
   "metadata": {},
   "source": [
    "Open a console and enter the follwing commands, the last will take a while to execute:\n",
    "```bash\n",
    "sudo pip3 install ipycanvas==0.4.7\n",
    "sudo jupyter labextension install @jupyter-widgets/jupyterlab-manager ipycanvas@0.4.7 --no-build\n",
    "sudo jupyter lab build --minimize=False\n",
    "sudo jupyter labextension install ipycanvas@0.4.7 --minimize=False\n",
    "```\n",
    "After completion either restart the jupyter lab service (or simply reboot).  Then restart this Notebook."
   ]
  },
  {
   "cell_type": "markdown",
   "metadata": {},
   "source": [
    "## Origins"
   ]
  },
  {
   "cell_type": "markdown",
   "metadata": {},
   "source": [
    "This notebook was inspired by a dog eared copy of the book: \"Fractals, Chaos, Power Laws: Minutes from an Infinite Paradise\", written by the late Dr. Manfred Schroeder, published and Copyright 1991 by W.H. Freeman"
   ]
  },
  {
   "cell_type": "markdown",
   "metadata": {},
   "source": [
    "![Published by Dover](./large-images/fractals_chaos_schroeder.jpg)"
   ]
  }
 ],
 "metadata": {
  "kernelspec": {
   "display_name": "Python 3",
   "language": "python",
   "name": "python3"
  },
  "language_info": {
   "codemirror_mode": {
    "name": "ipython",
    "version": 3
   },
   "file_extension": ".py",
   "mimetype": "text/x-python",
   "name": "python",
   "nbconvert_exporter": "python",
   "pygments_lexer": "ipython3",
   "version": "3.6.5"
  }
 },
 "nbformat": 4,
 "nbformat_minor": 4
}
